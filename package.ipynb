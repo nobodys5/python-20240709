{
 "cells": [
  {
   "cell_type": "markdown",
   "metadata": {},
   "source": [
    "### 외장 패키지 (라이브러리)\n",
    "외장 패키지를 설치를 하기위해서는 pip로 패키지를 설치해야함\n",
    "```bash\n",
    "pip install 패키지명\n",
    "```\n",
    "\n",
    "설치한 패키지를 해당 파일에서 사용하고자 한다면\n",
    "```python\n",
    "import 패키지명\n",
    "import 패키지명 as 별명\n",
    "```"
   ]
  },
  {
   "cell_type": "code",
   "execution_count": null,
   "metadata": {},
   "outputs": [],
   "source": [
    "import sklearn\n",
    "import sklearn as sk"
   ]
  },
  {
   "cell_type": "markdown",
   "metadata": {},
   "source": [
    "패키지의 포함된 정보를 보고 싶으면 dir() 내장 함수를 사용"
   ]
  },
  {
   "cell_type": "markdown",
   "metadata": {},
   "source": [
    "패키지 내부의 다른 패키지만 임포트하고자 하면 패키지명.하위패키지로 임포트\n",
    "```python\n",
    "import 패키지명.하위패키지명\n",
    "```"
   ]
  },
  {
   "cell_type": "code",
   "execution_count": null,
   "metadata": {},
   "outputs": [],
   "source": [
    "import sklearn."
   ]
  },
  {
   "cell_type": "markdown",
   "metadata": {},
   "source": [
    "패키지의 구성요소 중 특정한 요소만 사용하고자할 때 선택적으로 임포트할 수 있음\n",
    "```python\n",
    "from 패키지명 import 구성요소"
   ]
  },
  {
   "cell_type": "code",
   "execution_count": null,
   "metadata": {},
   "outputs": [],
   "source": [
    "from sklearn import linear_model"
   ]
  }
 ],
 "metadata": {
  "language_info": {
   "name": "python"
  }
 },
 "nbformat": 4,
 "nbformat_minor": 2
}
