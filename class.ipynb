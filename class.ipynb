{
 "cells": [
  {
   "cell_type": "markdown",
   "metadata": {},
   "source": [
    "### 클래스\n",
    "객체에 대한 정의\n",
    "같은 속성 혹은 기능의 집합\n",
    "```python\n",
    "classs 클래스명():\n",
    "    def __init__(self,매개변수1, ...):\n",
    "        self.속성1 = 속성값 1\n",
    "        ...\n",
    "\n",
    "    def 메서드명(self):\n",
    "        ...    "
   ]
  },
  {
   "cell_type": "code",
   "execution_count": 33,
   "metadata": {},
   "outputs": [],
   "source": [
    "class Test():\n",
    "    def __init__(self, title, text):\n",
    "        self.title = title\n",
    "        self.text = text\n",
    "    def Testtext(self):\n",
    "        print(f'{self.title}지었습니다.')"
   ]
  },
  {
   "cell_type": "code",
   "execution_count": 39,
   "metadata": {},
   "outputs": [
    {
     "name": "stdout",
     "output_type": "stream",
     "text": [
      "딴딴지었습니다.\n"
     ]
    }
   ],
   "source": [
    "test2 = Test('딴딴', '부르')\n",
    "test2.Testtext()"
   ]
  },
  {
   "cell_type": "code",
   "execution_count": 6,
   "metadata": {},
   "outputs": [],
   "source": [
    "class Human():\n",
    "    def __init__(self, name, age):\n",
    "        self.name = name\n",
    "        self.age = age\n",
    "\n",
    "    def greet(self):\n",
    "        print(f'{self.name}이 인사를 합니다.') "
   ]
  },
  {
   "cell_type": "markdown",
   "metadata": {},
   "source": [
    "##### 클래스의 인스턴스 생성\n",
    "```python\n",
    "변수 = 클래스명(매개변수, ...)\n",
    "```"
   ]
  },
  {
   "cell_type": "code",
   "execution_count": 9,
   "metadata": {},
   "outputs": [
    {
     "data": {
      "text/plain": [
       "'홍길동'"
      ]
     },
     "execution_count": 9,
     "metadata": {},
     "output_type": "execute_result"
    }
   ],
   "source": [
    "human1 = Human('홍길동', 20)\n",
    "human1.name"
   ]
  },
  {
   "cell_type": "code",
   "execution_count": 11,
   "metadata": {},
   "outputs": [
    {
     "name": "stdout",
     "output_type": "stream",
     "text": [
      "홍길동이 인사를 합니다.\n"
     ]
    }
   ],
   "source": [
    "human1.greet()"
   ]
  },
  {
   "cell_type": "code",
   "execution_count": null,
   "metadata": {},
   "outputs": [],
   "source": [
    "##### 클래스 상속\n",
    "이미 정의된 클래스를 재사용하는 기법\n",
    "코드 재사용성을 높여서 코드 중복 제거, 유지보수성을 향상\n",
    "```python\n",
    "class 클래스명(부모클래스):\n",
    "    def __init__(self, 매개변수...):\n",
    "        super(자식클래스명, self).__init__(매개변수...)\n",
    "        ...\n",
    "```\n"
   ]
  },
  {
   "cell_type": "code",
   "execution_count": 26,
   "metadata": {},
   "outputs": [],
   "source": [
    "class SalesMan(Human):\n",
    "    def __init__(self, name, age):\n",
    "        super(SalesMan, self).__init__(name, age)\n",
    "        self.sales = 10\n",
    "    def sale(self):\n",
    "        print(f'{self.name}이 {self.sales} 만큼 매출했습니다.')"
   ]
  },
  {
   "cell_type": "code",
   "execution_count": 20,
   "metadata": {},
   "outputs": [
    {
     "data": {
      "text/plain": [
       "56"
      ]
     },
     "execution_count": 20,
     "metadata": {},
     "output_type": "execute_result"
    }
   ],
   "source": [
    "salesMan1 = SalesMan('이성계', 56)\n",
    "salesMan1.age"
   ]
  },
  {
   "cell_type": "code",
   "execution_count": 30,
   "metadata": {},
   "outputs": [
    {
     "name": "stdout",
     "output_type": "stream",
     "text": [
      "이성계이 인사를 합니다.\n"
     ]
    },
    {
     "data": {
      "text/plain": [
       "0"
      ]
     },
     "execution_count": 30,
     "metadata": {},
     "output_type": "execute_result"
    }
   ],
   "source": [
    "salesMan1.greet()\n",
    "salesMan1.sales"
   ]
  },
  {
   "cell_type": "markdown",
   "metadata": {},
   "source": [
    "##### 메서드 오버로딩과 오버라이딩\n",
    "오버로딩 : 같은 이름의 메서드를 매개변수의 조합을 다르게하여 여러개\n",
    "정의하는 것, 파이썬에서는 오버로딩을 지원하지 않음\n",
    "오버라이딩 : 부모 클래스의 메서드를 재정의하는 것\n"
   ]
  },
  {
   "cell_type": "code",
   "execution_count": 40,
   "metadata": {},
   "outputs": [],
   "source": [
    "class Developer(Human):\n",
    "    def __init__(self, name, age):\n",
    "        super(Developer, self).__init__(name, age) #부모클래스에 전달해주는 코드\n",
    "        self.skills = []\n",
    "    def greet(self):\n",
    "        print(f'{self.name}이 인사를 합니다. 안녕하세요.')"
   ]
  },
  {
   "cell_type": "code",
   "execution_count": 47,
   "metadata": {},
   "outputs": [
    {
     "data": {
      "text/plain": [
       "20"
      ]
     },
     "execution_count": 47,
     "metadata": {},
     "output_type": "execute_result"
    }
   ],
   "source": [
    "Developer1 = Developer('이도', 20)\n",
    "Developer1.name\n",
    "Developer1.age"
   ]
  },
  {
   "cell_type": "markdown",
   "metadata": {},
   "source": [
    "##### 특수 메서드\n",
    "파이썬 클래스에서 제공하는 __메서드명__형태의 특수한 메서드\n",
    "```python\n",
    "__repr__(self) # 인스턴스 자체 출력시 표현할 방법\n",
    "__str__(self) # 인스턴스를 문자열로 형변환시 표현할 방법\n",
    "__getitem__(self, key) # 인스턴스를 딕셔너리와 같이 인덱싱 기법을\n",
    "사용할 수 있도록 하는 방법\n",
    "```"
   ]
  },
  {
   "cell_type": "code",
   "execution_count": 59,
   "metadata": {},
   "outputs": [],
   "source": [
    "class KIng():\n",
    "    def __init__(self, number, name, ho):\n",
    "        self.number = number\n",
    "        self.name = name\n",
    "        self.ho = ho\n",
    "    def __repr__(self): # 객체만 호출시 바로 출력됨\n",
    "        return f'KIng name - {self.name} / ho - {self.ho} / number - {self.number}'\n",
    "    def __str__(self):\n",
    "        return f'이름 : {self.name} / 호 : {self.ho} / 순서 : {self.number}'\n",
    "    def __getitem__(self, key): # key값들을 호출하면 출력됨\n",
    "        if key == 'number':\n",
    "            return self.number\n",
    "        if key == 'ho':\n",
    "            return self.ho\n",
    "        if key == 'name':\n",
    "            return self.name\n",
    "        "
   ]
  },
  {
   "cell_type": "code",
   "execution_count": 58,
   "metadata": {},
   "outputs": [
    {
     "data": {
      "text/plain": [
       "'호'"
      ]
     },
     "execution_count": 58,
     "metadata": {},
     "output_type": "execute_result"
    }
   ],
   "source": [
    "king1 = KIng(20, '하이', '호')\n",
    "king1['ho']"
   ]
  }
 ],
 "metadata": {
  "kernelspec": {
   "display_name": "Python 3",
   "language": "python",
   "name": "python3"
  },
  "language_info": {
   "codemirror_mode": {
    "name": "ipython",
    "version": 3
   },
   "file_extension": ".py",
   "mimetype": "text/x-python",
   "name": "python",
   "nbconvert_exporter": "python",
   "pygments_lexer": "ipython3",
   "version": "3.12.4"
  }
 },
 "nbformat": 4,
 "nbformat_minor": 2
}
